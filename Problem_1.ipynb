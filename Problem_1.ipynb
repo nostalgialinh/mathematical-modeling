{
  "nbformat": 4,
  "nbformat_minor": 0,
  "metadata": {
    "colab": {
      "provenance": []
    },
    "kernelspec": {
      "name": "python3",
      "display_name": "Python 3"
    },
    "language_info": {
      "name": "python"
    }
  },
  "cells": [
    {
      "cell_type": "markdown",
      "source": [
        "# **Stochastic programming using GUROBI**\n",
        "\n",
        "Firstly, we need to install and import some libraries with appropriate uses:\n",
        "*   **numpy**: creating, manipulating matrices and perform matrcies operations.\n",
        "*  **gurobi**: solving linear program.\n",
        "\n",
        "\n"
      ],
      "metadata": {
        "id": "a8zobkYqXnT9"
      }
    },
    {
      "cell_type": "code",
      "source": [
        "!pip install gurobipy\n",
        "\n",
        "import numpy as np\n",
        "import gurobipy as gugu\n"
      ],
      "metadata": {
        "id": "S8CuX6tifjrf",
        "colab": {
          "base_uri": "https://localhost:8080/"
        },
        "outputId": "1b00c10a-8797-43c3-b40c-91ed0aa9abf7"
      },
      "execution_count": null,
      "outputs": [
        {
          "output_type": "stream",
          "name": "stdout",
          "text": [
            "Requirement already satisfied: gurobipy in /usr/local/lib/python3.10/dist-packages (11.0.0)\n"
          ]
        }
      ]
    },
    {
      "cell_type": "markdown",
      "source": [
        "#**Initiliazation of unchanged values**\n",
        "Before building the model, we simulate neccessary data. The table below gives description, data type and value or range of these data.\n",
        "\n",
        "\n",
        "| Name | Description | Data Type | Value or range|\n",
        "| :-: | :- | :- | |\n",
        "| n | Number of products | natural | n = 8|\n",
        "| m | Number of materials | natural | m = 5|\n",
        "| **b** | Costs of materials | vector 5x1, natural |  $50 \\leq b_j \\leq 100, \\forall j \\in J$  |\n",
        "| **l** | Additional costs | vector 8x1, natural | $10 \\leq l_i \\leq 25, \\forall i \\in I$|\n",
        "| **q** | Sale prices | vector 8x1, natural | $q_i = Ab + l + ϵ_i, 20 \\leq ϵ_i \\leq 50, \\forall i \\in I $|\n",
        "| **s** | Salvage value | vector 5x1, natural | $s_j = b_j - ϵ_j, 10 \\leq ϵ_j \\leq 20, \\forall j \\in J $|\n",
        "|**A** | $a_{ij}$ is the number of material j that a unit of prodcut i requires | matrix 8x5, natural | $ 1 \\leq a_{ij} \\leq 10, \\forall i \\in I, \\forall j \\in J$\n"
      ],
      "metadata": {
        "id": "emYdA8Dofsk3"
      }
    },
    {
      "cell_type": "code",
      "source": [
        "np.random.seed(123)\n",
        "n = 8\n",
        "m = 5\n",
        "b = np.random.randint(low = 50, high = 100, size = (m,1))\n",
        "l = np.random.randint(low = 10, high = 25, size = (n,1))\n",
        "s = b - np.random.randint(low = 10, high = 20, size = (m,1))\n",
        "A = np.random.randint(low = 1, high = 10, size = (n,m)) #8x5\n",
        "tcostsOfProduct = np.matmul(A, b) + l; # A.b + l\n",
        "q = tcostsOfProduct + np.random.randint(low = 20, high = 50, size = (n,1))\n",
        "\n",
        "\n",
        "\n",
        "print(\"b is \")\n",
        "print(b)\n",
        "print(\"\\nl is \")\n",
        "print(l)\n",
        "print(\"\\ns is \")\n",
        "print(s)\n",
        "print(\"\\nq is \")\n",
        "print(q)\n",
        "print(\"\\nMatrix A is\")\n",
        "print(A)\n"
      ],
      "metadata": {
        "colab": {
          "base_uri": "https://localhost:8080/"
        },
        "id": "Y6g5hTWejjjP",
        "outputId": "0c9487c8-2373-4769-a7ba-26dcd8f90c49"
      },
      "execution_count": null,
      "outputs": [
        {
          "output_type": "stream",
          "name": "stdout",
          "text": [
            "b is \n",
            "[[95]\n",
            " [52]\n",
            " [78]\n",
            " [84]\n",
            " [88]]\n",
            "\n",
            "l is \n",
            "[[11]\n",
            " [13]\n",
            " [20]\n",
            " [21]\n",
            " [19]\n",
            " [16]\n",
            " [11]\n",
            " [10]]\n",
            "\n",
            "s is \n",
            "[[84]\n",
            " [33]\n",
            " [68]\n",
            " [74]\n",
            " [69]]\n",
            "\n",
            "q is \n",
            "[[1280]\n",
            " [1644]\n",
            " [2201]\n",
            " [2189]\n",
            " [2172]\n",
            " [1697]\n",
            " [1931]\n",
            " [2185]]\n",
            "\n",
            "Matrix A is\n",
            "[[4 5 1 1 5]\n",
            " [2 8 4 3 5]\n",
            " [8 3 5 9 1]\n",
            " [8 4 5 7 2]\n",
            " [6 7 3 2 9]\n",
            " [4 6 1 3 7]\n",
            " [3 5 5 7 4]\n",
            " [1 7 5 8 7]]\n"
          ]
        }
      ]
    },
    {
      "cell_type": "markdown",
      "source": [
        "# **Generate Uncertainty**\n",
        "In this problem, the uncertainty is the demand of products. Therefore, we have 8 random variables $D_i$.\n",
        "* **Number of scenarios**: S = 2\n",
        "* **Random variables**: $d_i$ ~ $Bin(10,\\frac{1}{2}), \\forall i \\in I$"
      ],
      "metadata": {
        "id": "MPS-X5cHtkoA"
      }
    },
    {
      "cell_type": "code",
      "source": [
        "np.random.seed(12)\n",
        "D_1 = np.random.binomial(10, 0.5, size = (8,1))\n",
        "D_2 = np.random.binomial(10, 0.5, size = (8,1))\n",
        "\n",
        "print(\"D_1 is: \")\n",
        "print(D_1)\n",
        "print(\"\\nD_2 is: \")\n",
        "print(D_2)\n"
      ],
      "metadata": {
        "id": "Tddr1X7it33H",
        "colab": {
          "base_uri": "https://localhost:8080/"
        },
        "outputId": "825f93be-2489-4ce1-f458-b9621044c09e"
      },
      "execution_count": null,
      "outputs": [
        {
          "output_type": "stream",
          "name": "stdout",
          "text": [
            "D_1 is: \n",
            "[[3]\n",
            " [6]\n",
            " [4]\n",
            " [5]\n",
            " [2]\n",
            " [7]\n",
            " [7]\n",
            " [2]]\n",
            "\n",
            "D_2 is: \n",
            "[[8]\n",
            " [3]\n",
            " [4]\n",
            " [5]\n",
            " [7]\n",
            " [7]\n",
            " [1]\n",
            " [5]]\n"
          ]
        }
      ]
    },
    {
      "cell_type": "markdown",
      "source": [
        "# **Build Model**\n",
        "Next, we create a model and then add variables and objective functions. Our linear problem written in standard form is:<br>\n",
        "  $\\textbf{min } b^Tx + E[(l-q)^Tz - s^Ty]$ <br>\n",
        "such that\n",
        "\\begin{equation}\n",
        "\\begin{cases}\n",
        "    y = x - A^Tz \\\\\n",
        "    0 \\leq z \\leq D \\\\\n",
        "    x,y \\geq 0\n",
        "\\end{cases}\n",
        "\\end{equation}\n",
        "\n",
        "\n",
        "\n",
        "\n"
      ],
      "metadata": {
        "id": "0Y7Jy2jEvnw7"
      }
    },
    {
      "cell_type": "code",
      "source": [
        "model = gugu.Model(\"Industry Manufacturing Problem\")\n",
        "model.setParam('OutputFlag', 0)\n",
        "x = model.addMVar((m,1), vtype = gugu.GRB.INTEGER, name = \"x\")\n",
        "y1 = model.addMVar((m,1), vtype = gugu.GRB.INTEGER, name = \"y1\")\n",
        "y2 = model.addMVar((m,1), vtype = gugu.GRB.INTEGER, name = \"y2\")\n",
        "z1 = model.addMVar((n,1), vtype = gugu.GRB.INTEGER, name = \"z1\")\n",
        "z2 = model.addMVar((n,1), vtype = gugu.GRB.INTEGER, name = \"z2\")\n",
        "\n",
        "#Objective function\n",
        "model.setObjective(b.T @ x + 0.5*(l-q).T @ (z1 + z2) - 0.5*(s.T)@(y1+y2), sense = gugu.GRB.MINIMIZE)\n",
        "\n",
        "#Add constraints\n",
        "model.addConstr(y1 == x - A.T @ z1)\n",
        "model.addConstr(y2 == x - A.T @ z2)\n",
        "model.addConstr(z1 <= D_1)\n",
        "model.addConstr(z2 <= D_2)\n",
        "\n",
        "\n",
        "model.Params.Method = 0\n",
        "model.Params.NodeMethod = 0\n",
        "model.optimize()\n",
        "# Check the optimization status\n",
        "if model.status == gugu.GRB.OPTIMAL:\n",
        "    # Access the values of the decision variables\n",
        "    x_value = x.x\n",
        "    y1_value = y1.x\n",
        "    z1_value = z1.x\n",
        "    y2_value = y2.x\n",
        "    z2_value = z2.x\n",
        "\n",
        "    print(\"Optimal Solution:\")\n",
        "    print('Obj: %g' % model.objVal)\n",
        "    print(f\"x = \\n{x_value}\")\n",
        "    print(\"\\nScenarios 1:\")\n",
        "    print(f\"y1 = \\n{y1_value}\")\n",
        "    print(f\"\\nz1 = \\n{z1_value}\")\n",
        "    print(\"\\n\\nScenarios 2:\")\n",
        "    print(f\"y2 = \\n{y2_value}\")\n",
        "    print(f\"\\nz2 = \\n{z2_value}\")\n",
        "    model.printAttr('x')\n",
        "else:\n",
        "    print(\"Optimization was not successful.\")"
      ],
      "metadata": {
        "colab": {
          "base_uri": "https://localhost:8080/"
        },
        "id": "6-nf0_bPvwoS",
        "outputId": "b21c5b9c-7e25-4448-cc87-6c6f3cf3f96b"
      },
      "execution_count": null,
      "outputs": [
        {
          "output_type": "stream",
          "name": "stdout",
          "text": [
            "Optimal Solution:\n",
            "Obj: -1099\n",
            "x = \n",
            "[[140.]\n",
            " [170.]\n",
            " [108.]\n",
            " [155.]\n",
            " [151.]]\n",
            "\n",
            "Scenarios 1:\n",
            "y1 = \n",
            "[[3.]\n",
            " [0.]\n",
            " [0.]\n",
            " [0.]\n",
            " [0.]]\n",
            "\n",
            "z1 = \n",
            "[[3.]\n",
            " [3.]\n",
            " [2.]\n",
            " [5.]\n",
            " [2.]\n",
            " [7.]\n",
            " [7.]\n",
            " [2.]]\n",
            "\n",
            "\n",
            "Scenarios 2:\n",
            "y2 = \n",
            "[[0.]\n",
            " [0.]\n",
            " [6.]\n",
            " [0.]\n",
            " [0.]]\n",
            "\n",
            "z2 = \n",
            "[[5.]\n",
            " [3.]\n",
            " [4.]\n",
            " [5.]\n",
            " [1.]\n",
            " [7.]\n",
            " [1.]\n",
            " [5.]]\n"
          ]
        }
      ]
    }
  ]
}